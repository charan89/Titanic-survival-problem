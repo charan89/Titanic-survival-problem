{
 "cells": [
  {
   "cell_type": "markdown",
   "metadata": {},
   "source": [
    "## Problem Statement"
   ]
  },
  {
   "cell_type": "markdown",
   "metadata": {},
   "source": [
    "### Use machine learning to create a model that predicts which passengers survived the Titanic shipwreck.\n",
    "The sinking of the Titanic is one of the most infamous shipwrecks in history.\n",
    "\n",
    "On April 15, 1912, during her maiden voyage, the widely considered “unsinkable” RMS Titanic sank after colliding with an iceberg. Unfortunately, there weren’t enough lifeboats for everyone onboard, resulting in the death of 1502 out of 2224 passengers and crew.\n",
    "\n",
    "While there was some element of luck involved in surviving, it seems some groups of people were more likely to survive than others.\n",
    "\n",
    "In this challenge, we ask you to build a predictive model that answers the question: “what sorts of people were more likely to survive?” using passenger data (ie name, age, gender, socio-economic class, etc)."
   ]
  },
  {
   "cell_type": "markdown",
   "metadata": {},
   "source": [
    "### Importing libraries"
   ]
  },
  {
   "cell_type": "code",
   "execution_count": 285,
   "metadata": {},
   "outputs": [],
   "source": [
    "import pandas as pd\n",
    "import numpy as np\n",
    "import sklearn"
   ]
  },
  {
   "cell_type": "markdown",
   "metadata": {},
   "source": [
    "### Import datasets"
   ]
  },
  {
   "cell_type": "code",
   "execution_count": 286,
   "metadata": {},
   "outputs": [
    {
     "data": {
      "text/html": [
       "<div>\n",
       "<style scoped>\n",
       "    .dataframe tbody tr th:only-of-type {\n",
       "        vertical-align: middle;\n",
       "    }\n",
       "\n",
       "    .dataframe tbody tr th {\n",
       "        vertical-align: top;\n",
       "    }\n",
       "\n",
       "    .dataframe thead th {\n",
       "        text-align: right;\n",
       "    }\n",
       "</style>\n",
       "<table border=\"1\" class=\"dataframe\">\n",
       "  <thead>\n",
       "    <tr style=\"text-align: right;\">\n",
       "      <th></th>\n",
       "      <th>PassengerId</th>\n",
       "      <th>Survived</th>\n",
       "      <th>Pclass</th>\n",
       "      <th>Name</th>\n",
       "      <th>Sex</th>\n",
       "      <th>Age</th>\n",
       "      <th>SibSp</th>\n",
       "      <th>Parch</th>\n",
       "      <th>Ticket</th>\n",
       "      <th>Fare</th>\n",
       "      <th>Cabin</th>\n",
       "      <th>Embarked</th>\n",
       "    </tr>\n",
       "  </thead>\n",
       "  <tbody>\n",
       "    <tr>\n",
       "      <th>0</th>\n",
       "      <td>1</td>\n",
       "      <td>0</td>\n",
       "      <td>3</td>\n",
       "      <td>Braund, Mr. Owen Harris</td>\n",
       "      <td>male</td>\n",
       "      <td>22.0</td>\n",
       "      <td>1</td>\n",
       "      <td>0</td>\n",
       "      <td>A/5 21171</td>\n",
       "      <td>7.2500</td>\n",
       "      <td>NaN</td>\n",
       "      <td>S</td>\n",
       "    </tr>\n",
       "    <tr>\n",
       "      <th>1</th>\n",
       "      <td>2</td>\n",
       "      <td>1</td>\n",
       "      <td>1</td>\n",
       "      <td>Cumings, Mrs. John Bradley (Florence Briggs Th...</td>\n",
       "      <td>female</td>\n",
       "      <td>38.0</td>\n",
       "      <td>1</td>\n",
       "      <td>0</td>\n",
       "      <td>PC 17599</td>\n",
       "      <td>71.2833</td>\n",
       "      <td>C85</td>\n",
       "      <td>C</td>\n",
       "    </tr>\n",
       "    <tr>\n",
       "      <th>2</th>\n",
       "      <td>3</td>\n",
       "      <td>1</td>\n",
       "      <td>3</td>\n",
       "      <td>Heikkinen, Miss. Laina</td>\n",
       "      <td>female</td>\n",
       "      <td>26.0</td>\n",
       "      <td>0</td>\n",
       "      <td>0</td>\n",
       "      <td>STON/O2. 3101282</td>\n",
       "      <td>7.9250</td>\n",
       "      <td>NaN</td>\n",
       "      <td>S</td>\n",
       "    </tr>\n",
       "    <tr>\n",
       "      <th>3</th>\n",
       "      <td>4</td>\n",
       "      <td>1</td>\n",
       "      <td>1</td>\n",
       "      <td>Futrelle, Mrs. Jacques Heath (Lily May Peel)</td>\n",
       "      <td>female</td>\n",
       "      <td>35.0</td>\n",
       "      <td>1</td>\n",
       "      <td>0</td>\n",
       "      <td>113803</td>\n",
       "      <td>53.1000</td>\n",
       "      <td>C123</td>\n",
       "      <td>S</td>\n",
       "    </tr>\n",
       "    <tr>\n",
       "      <th>4</th>\n",
       "      <td>5</td>\n",
       "      <td>0</td>\n",
       "      <td>3</td>\n",
       "      <td>Allen, Mr. William Henry</td>\n",
       "      <td>male</td>\n",
       "      <td>35.0</td>\n",
       "      <td>0</td>\n",
       "      <td>0</td>\n",
       "      <td>373450</td>\n",
       "      <td>8.0500</td>\n",
       "      <td>NaN</td>\n",
       "      <td>S</td>\n",
       "    </tr>\n",
       "  </tbody>\n",
       "</table>\n",
       "</div>"
      ],
      "text/plain": [
       "   PassengerId  Survived  Pclass  \\\n",
       "0            1         0       3   \n",
       "1            2         1       1   \n",
       "2            3         1       3   \n",
       "3            4         1       1   \n",
       "4            5         0       3   \n",
       "\n",
       "                                                Name     Sex   Age  SibSp  \\\n",
       "0                            Braund, Mr. Owen Harris    male  22.0      1   \n",
       "1  Cumings, Mrs. John Bradley (Florence Briggs Th...  female  38.0      1   \n",
       "2                             Heikkinen, Miss. Laina  female  26.0      0   \n",
       "3       Futrelle, Mrs. Jacques Heath (Lily May Peel)  female  35.0      1   \n",
       "4                           Allen, Mr. William Henry    male  35.0      0   \n",
       "\n",
       "   Parch            Ticket     Fare Cabin Embarked  \n",
       "0      0         A/5 21171   7.2500   NaN        S  \n",
       "1      0          PC 17599  71.2833   C85        C  \n",
       "2      0  STON/O2. 3101282   7.9250   NaN        S  \n",
       "3      0            113803  53.1000  C123        S  \n",
       "4      0            373450   8.0500   NaN        S  "
      ]
     },
     "execution_count": 286,
     "metadata": {},
     "output_type": "execute_result"
    }
   ],
   "source": [
    "df=pd.read_csv('train.csv')\n",
    "df1=pd.read_csv('test.csv')\n",
    "df.head()"
   ]
  },
  {
   "cell_type": "code",
   "execution_count": 287,
   "metadata": {
    "scrolled": true
   },
   "outputs": [
    {
     "data": {
      "text/html": [
       "<div>\n",
       "<style scoped>\n",
       "    .dataframe tbody tr th:only-of-type {\n",
       "        vertical-align: middle;\n",
       "    }\n",
       "\n",
       "    .dataframe tbody tr th {\n",
       "        vertical-align: top;\n",
       "    }\n",
       "\n",
       "    .dataframe thead th {\n",
       "        text-align: right;\n",
       "    }\n",
       "</style>\n",
       "<table border=\"1\" class=\"dataframe\">\n",
       "  <thead>\n",
       "    <tr style=\"text-align: right;\">\n",
       "      <th></th>\n",
       "      <th>PassengerId</th>\n",
       "      <th>Survived</th>\n",
       "      <th>Pclass</th>\n",
       "      <th>Age</th>\n",
       "      <th>SibSp</th>\n",
       "      <th>Parch</th>\n",
       "      <th>Fare</th>\n",
       "    </tr>\n",
       "  </thead>\n",
       "  <tbody>\n",
       "    <tr>\n",
       "      <th>PassengerId</th>\n",
       "      <td>1.000000</td>\n",
       "      <td>-0.005007</td>\n",
       "      <td>-0.035144</td>\n",
       "      <td>0.036847</td>\n",
       "      <td>-0.057527</td>\n",
       "      <td>-0.001652</td>\n",
       "      <td>0.012658</td>\n",
       "    </tr>\n",
       "    <tr>\n",
       "      <th>Survived</th>\n",
       "      <td>-0.005007</td>\n",
       "      <td>1.000000</td>\n",
       "      <td>-0.338481</td>\n",
       "      <td>-0.077221</td>\n",
       "      <td>-0.035322</td>\n",
       "      <td>0.081629</td>\n",
       "      <td>0.257307</td>\n",
       "    </tr>\n",
       "    <tr>\n",
       "      <th>Pclass</th>\n",
       "      <td>-0.035144</td>\n",
       "      <td>-0.338481</td>\n",
       "      <td>1.000000</td>\n",
       "      <td>-0.369226</td>\n",
       "      <td>0.083081</td>\n",
       "      <td>0.018443</td>\n",
       "      <td>-0.549500</td>\n",
       "    </tr>\n",
       "    <tr>\n",
       "      <th>Age</th>\n",
       "      <td>0.036847</td>\n",
       "      <td>-0.077221</td>\n",
       "      <td>-0.369226</td>\n",
       "      <td>1.000000</td>\n",
       "      <td>-0.308247</td>\n",
       "      <td>-0.189119</td>\n",
       "      <td>0.096067</td>\n",
       "    </tr>\n",
       "    <tr>\n",
       "      <th>SibSp</th>\n",
       "      <td>-0.057527</td>\n",
       "      <td>-0.035322</td>\n",
       "      <td>0.083081</td>\n",
       "      <td>-0.308247</td>\n",
       "      <td>1.000000</td>\n",
       "      <td>0.414838</td>\n",
       "      <td>0.159651</td>\n",
       "    </tr>\n",
       "    <tr>\n",
       "      <th>Parch</th>\n",
       "      <td>-0.001652</td>\n",
       "      <td>0.081629</td>\n",
       "      <td>0.018443</td>\n",
       "      <td>-0.189119</td>\n",
       "      <td>0.414838</td>\n",
       "      <td>1.000000</td>\n",
       "      <td>0.216225</td>\n",
       "    </tr>\n",
       "    <tr>\n",
       "      <th>Fare</th>\n",
       "      <td>0.012658</td>\n",
       "      <td>0.257307</td>\n",
       "      <td>-0.549500</td>\n",
       "      <td>0.096067</td>\n",
       "      <td>0.159651</td>\n",
       "      <td>0.216225</td>\n",
       "      <td>1.000000</td>\n",
       "    </tr>\n",
       "  </tbody>\n",
       "</table>\n",
       "</div>"
      ],
      "text/plain": [
       "             PassengerId  Survived    Pclass       Age     SibSp     Parch  \\\n",
       "PassengerId     1.000000 -0.005007 -0.035144  0.036847 -0.057527 -0.001652   \n",
       "Survived       -0.005007  1.000000 -0.338481 -0.077221 -0.035322  0.081629   \n",
       "Pclass         -0.035144 -0.338481  1.000000 -0.369226  0.083081  0.018443   \n",
       "Age             0.036847 -0.077221 -0.369226  1.000000 -0.308247 -0.189119   \n",
       "SibSp          -0.057527 -0.035322  0.083081 -0.308247  1.000000  0.414838   \n",
       "Parch          -0.001652  0.081629  0.018443 -0.189119  0.414838  1.000000   \n",
       "Fare            0.012658  0.257307 -0.549500  0.096067  0.159651  0.216225   \n",
       "\n",
       "                 Fare  \n",
       "PassengerId  0.012658  \n",
       "Survived     0.257307  \n",
       "Pclass      -0.549500  \n",
       "Age          0.096067  \n",
       "SibSp        0.159651  \n",
       "Parch        0.216225  \n",
       "Fare         1.000000  "
      ]
     },
     "execution_count": 287,
     "metadata": {},
     "output_type": "execute_result"
    }
   ],
   "source": [
    "df.corr() # correlation between numeric variables"
   ]
  },
  {
   "cell_type": "markdown",
   "metadata": {},
   "source": [
    "#### As we can see Pclass and Embarked variable is not continous but instead its categorical variables, we will perform one hot coding to these columns"
   ]
  },
  {
   "cell_type": "code",
   "execution_count": 288,
   "metadata": {},
   "outputs": [
    {
     "data": {
      "text/plain": [
       "PassengerId      0\n",
       "Survived         0\n",
       "Pclass           0\n",
       "Name             0\n",
       "Sex              0\n",
       "Age            177\n",
       "SibSp            0\n",
       "Parch            0\n",
       "Ticket           0\n",
       "Fare             0\n",
       "Cabin          687\n",
       "Embarked         2\n",
       "dtype: int64"
      ]
     },
     "execution_count": 288,
     "metadata": {},
     "output_type": "execute_result"
    }
   ],
   "source": [
    "df.isnull().sum()"
   ]
  },
  {
   "cell_type": "code",
   "execution_count": 289,
   "metadata": {},
   "outputs": [
    {
     "data": {
      "text/plain": [
       "array(['S', 'C', 'Q', nan], dtype=object)"
      ]
     },
     "execution_count": 289,
     "metadata": {},
     "output_type": "execute_result"
    }
   ],
   "source": [
    "df.Embarked.unique()"
   ]
  },
  {
   "cell_type": "code",
   "execution_count": 290,
   "metadata": {
    "scrolled": true
   },
   "outputs": [
    {
     "data": {
      "text/plain": [
       "S    644\n",
       "C    168\n",
       "Q     77\n",
       "Name: Embarked, dtype: int64"
      ]
     },
     "execution_count": 290,
     "metadata": {},
     "output_type": "execute_result"
    }
   ],
   "source": [
    "df.Embarked.value_counts()"
   ]
  },
  {
   "cell_type": "code",
   "execution_count": 291,
   "metadata": {},
   "outputs": [],
   "source": [
    "# imputing missing values in embarked column with S as its majorly there\n",
    "df['Embarked'].fillna('S',inplace=True)"
   ]
  },
  {
   "cell_type": "code",
   "execution_count": 292,
   "metadata": {},
   "outputs": [],
   "source": [
    "embark=pd.get_dummies(df['Embarked'],drop_first=True)\n",
    "embark1=pd.get_dummies(df1['Embarked'],drop_first=True)\n",
    "pc=pd.get_dummies(df['Pclass'],drop_first=True)\n",
    "pc1=pd.get_dummies(df1['Pclass'],drop_first=True)\n",
    "df=pd.concat([df,embark,pc],axis=1)\n",
    "df1=pd.concat([df1,embark1,pc1],axis=1)\n"
   ]
  },
  {
   "cell_type": "code",
   "execution_count": 293,
   "metadata": {},
   "outputs": [],
   "source": [
    "col_drop=['PassengerId','Name','Cabin','Ticket','Embarked','Pclass']\n",
    "\n",
    "df=df.drop(col_drop,axis=1)\n",
    "df1=df1.drop(col_drop,axis=1)"
   ]
  },
  {
   "cell_type": "code",
   "execution_count": 294,
   "metadata": {},
   "outputs": [
    {
     "data": {
      "text/html": [
       "<div>\n",
       "<style scoped>\n",
       "    .dataframe tbody tr th:only-of-type {\n",
       "        vertical-align: middle;\n",
       "    }\n",
       "\n",
       "    .dataframe tbody tr th {\n",
       "        vertical-align: top;\n",
       "    }\n",
       "\n",
       "    .dataframe thead th {\n",
       "        text-align: right;\n",
       "    }\n",
       "</style>\n",
       "<table border=\"1\" class=\"dataframe\">\n",
       "  <thead>\n",
       "    <tr style=\"text-align: right;\">\n",
       "      <th></th>\n",
       "      <th>Survived</th>\n",
       "      <th>Sex</th>\n",
       "      <th>Age</th>\n",
       "      <th>SibSp</th>\n",
       "      <th>Parch</th>\n",
       "      <th>Fare</th>\n",
       "      <th>Q</th>\n",
       "      <th>S</th>\n",
       "      <th>2</th>\n",
       "      <th>3</th>\n",
       "    </tr>\n",
       "  </thead>\n",
       "  <tbody>\n",
       "    <tr>\n",
       "      <th>0</th>\n",
       "      <td>0</td>\n",
       "      <td>male</td>\n",
       "      <td>22.0</td>\n",
       "      <td>1</td>\n",
       "      <td>0</td>\n",
       "      <td>7.2500</td>\n",
       "      <td>0</td>\n",
       "      <td>1</td>\n",
       "      <td>0</td>\n",
       "      <td>1</td>\n",
       "    </tr>\n",
       "    <tr>\n",
       "      <th>1</th>\n",
       "      <td>1</td>\n",
       "      <td>female</td>\n",
       "      <td>38.0</td>\n",
       "      <td>1</td>\n",
       "      <td>0</td>\n",
       "      <td>71.2833</td>\n",
       "      <td>0</td>\n",
       "      <td>0</td>\n",
       "      <td>0</td>\n",
       "      <td>0</td>\n",
       "    </tr>\n",
       "    <tr>\n",
       "      <th>2</th>\n",
       "      <td>1</td>\n",
       "      <td>female</td>\n",
       "      <td>26.0</td>\n",
       "      <td>0</td>\n",
       "      <td>0</td>\n",
       "      <td>7.9250</td>\n",
       "      <td>0</td>\n",
       "      <td>1</td>\n",
       "      <td>0</td>\n",
       "      <td>1</td>\n",
       "    </tr>\n",
       "    <tr>\n",
       "      <th>3</th>\n",
       "      <td>1</td>\n",
       "      <td>female</td>\n",
       "      <td>35.0</td>\n",
       "      <td>1</td>\n",
       "      <td>0</td>\n",
       "      <td>53.1000</td>\n",
       "      <td>0</td>\n",
       "      <td>1</td>\n",
       "      <td>0</td>\n",
       "      <td>0</td>\n",
       "    </tr>\n",
       "    <tr>\n",
       "      <th>4</th>\n",
       "      <td>0</td>\n",
       "      <td>male</td>\n",
       "      <td>35.0</td>\n",
       "      <td>0</td>\n",
       "      <td>0</td>\n",
       "      <td>8.0500</td>\n",
       "      <td>0</td>\n",
       "      <td>1</td>\n",
       "      <td>0</td>\n",
       "      <td>1</td>\n",
       "    </tr>\n",
       "  </tbody>\n",
       "</table>\n",
       "</div>"
      ],
      "text/plain": [
       "   Survived     Sex   Age  SibSp  Parch     Fare  Q  S  2  3\n",
       "0         0    male  22.0      1      0   7.2500  0  1  0  1\n",
       "1         1  female  38.0      1      0  71.2833  0  0  0  0\n",
       "2         1  female  26.0      0      0   7.9250  0  1  0  1\n",
       "3         1  female  35.0      1      0  53.1000  0  1  0  0\n",
       "4         0    male  35.0      0      0   8.0500  0  1  0  1"
      ]
     },
     "execution_count": 294,
     "metadata": {},
     "output_type": "execute_result"
    }
   ],
   "source": [
    "df.head()"
   ]
  },
  {
   "cell_type": "markdown",
   "metadata": {},
   "source": [
    "One hot encoding of gender categorical variable"
   ]
  },
  {
   "cell_type": "code",
   "execution_count": 295,
   "metadata": {},
   "outputs": [
    {
     "name": "stdout",
     "output_type": "stream",
     "text": [
      "<class 'pandas.core.frame.DataFrame'>\n",
      "RangeIndex: 891 entries, 0 to 890\n",
      "Data columns (total 10 columns):\n",
      " #   Column    Non-Null Count  Dtype  \n",
      "---  ------    --------------  -----  \n",
      " 0   Survived  891 non-null    int64  \n",
      " 1   Sex       891 non-null    object \n",
      " 2   Age       714 non-null    float64\n",
      " 3   SibSp     891 non-null    int64  \n",
      " 4   Parch     891 non-null    int64  \n",
      " 5   Fare      891 non-null    float64\n",
      " 6   Q         891 non-null    uint8  \n",
      " 7   S         891 non-null    uint8  \n",
      " 8   2         891 non-null    uint8  \n",
      " 9   3         891 non-null    uint8  \n",
      "dtypes: float64(2), int64(3), object(1), uint8(4)\n",
      "memory usage: 45.4+ KB\n"
     ]
    }
   ],
   "source": [
    "df.info()\n",
    "df['Sex']=df['Sex'].apply(lambda x:0 if str(x.strip().lower())=='male' else 1)\n",
    "df1['Sex']=df1['Sex'].apply(lambda x:0 if str(x.strip().lower())=='male' else 1)"
   ]
  },
  {
   "cell_type": "code",
   "execution_count": 296,
   "metadata": {},
   "outputs": [
    {
     "data": {
      "text/html": [
       "<div>\n",
       "<style scoped>\n",
       "    .dataframe tbody tr th:only-of-type {\n",
       "        vertical-align: middle;\n",
       "    }\n",
       "\n",
       "    .dataframe tbody tr th {\n",
       "        vertical-align: top;\n",
       "    }\n",
       "\n",
       "    .dataframe thead th {\n",
       "        text-align: right;\n",
       "    }\n",
       "</style>\n",
       "<table border=\"1\" class=\"dataframe\">\n",
       "  <thead>\n",
       "    <tr style=\"text-align: right;\">\n",
       "      <th></th>\n",
       "      <th>Survived</th>\n",
       "      <th>Sex</th>\n",
       "      <th>Age</th>\n",
       "      <th>SibSp</th>\n",
       "      <th>Parch</th>\n",
       "      <th>Fare</th>\n",
       "      <th>Q</th>\n",
       "      <th>S</th>\n",
       "      <th>2</th>\n",
       "      <th>3</th>\n",
       "    </tr>\n",
       "  </thead>\n",
       "  <tbody>\n",
       "    <tr>\n",
       "      <th>0</th>\n",
       "      <td>0</td>\n",
       "      <td>0</td>\n",
       "      <td>22.0</td>\n",
       "      <td>1</td>\n",
       "      <td>0</td>\n",
       "      <td>7.2500</td>\n",
       "      <td>0</td>\n",
       "      <td>1</td>\n",
       "      <td>0</td>\n",
       "      <td>1</td>\n",
       "    </tr>\n",
       "    <tr>\n",
       "      <th>1</th>\n",
       "      <td>1</td>\n",
       "      <td>1</td>\n",
       "      <td>38.0</td>\n",
       "      <td>1</td>\n",
       "      <td>0</td>\n",
       "      <td>71.2833</td>\n",
       "      <td>0</td>\n",
       "      <td>0</td>\n",
       "      <td>0</td>\n",
       "      <td>0</td>\n",
       "    </tr>\n",
       "    <tr>\n",
       "      <th>2</th>\n",
       "      <td>1</td>\n",
       "      <td>1</td>\n",
       "      <td>26.0</td>\n",
       "      <td>0</td>\n",
       "      <td>0</td>\n",
       "      <td>7.9250</td>\n",
       "      <td>0</td>\n",
       "      <td>1</td>\n",
       "      <td>0</td>\n",
       "      <td>1</td>\n",
       "    </tr>\n",
       "    <tr>\n",
       "      <th>3</th>\n",
       "      <td>1</td>\n",
       "      <td>1</td>\n",
       "      <td>35.0</td>\n",
       "      <td>1</td>\n",
       "      <td>0</td>\n",
       "      <td>53.1000</td>\n",
       "      <td>0</td>\n",
       "      <td>1</td>\n",
       "      <td>0</td>\n",
       "      <td>0</td>\n",
       "    </tr>\n",
       "    <tr>\n",
       "      <th>4</th>\n",
       "      <td>0</td>\n",
       "      <td>0</td>\n",
       "      <td>35.0</td>\n",
       "      <td>0</td>\n",
       "      <td>0</td>\n",
       "      <td>8.0500</td>\n",
       "      <td>0</td>\n",
       "      <td>1</td>\n",
       "      <td>0</td>\n",
       "      <td>1</td>\n",
       "    </tr>\n",
       "  </tbody>\n",
       "</table>\n",
       "</div>"
      ],
      "text/plain": [
       "   Survived  Sex   Age  SibSp  Parch     Fare  Q  S  2  3\n",
       "0         0    0  22.0      1      0   7.2500  0  1  0  1\n",
       "1         1    1  38.0      1      0  71.2833  0  0  0  0\n",
       "2         1    1  26.0      0      0   7.9250  0  1  0  1\n",
       "3         1    1  35.0      1      0  53.1000  0  1  0  0\n",
       "4         0    0  35.0      0      0   8.0500  0  1  0  1"
      ]
     },
     "execution_count": 296,
     "metadata": {},
     "output_type": "execute_result"
    }
   ],
   "source": [
    "df.head()"
   ]
  },
  {
   "cell_type": "markdown",
   "metadata": {},
   "source": [
    "### As there is missing values in Age variable so we will be imputing it with mean values"
   ]
  },
  {
   "cell_type": "code",
   "execution_count": 297,
   "metadata": {},
   "outputs": [],
   "source": [
    "from sklearn.impute import SimpleImputer\n",
    "imr = SimpleImputer(missing_values=np.nan, strategy='mean')\n",
    "\n",
    "df[['Age']]=imr.fit_transform(df[['Age']])\n",
    "df1[['Age']]=imr.transform(df1[['Age']])"
   ]
  },
  {
   "cell_type": "code",
   "execution_count": 298,
   "metadata": {},
   "outputs": [
    {
     "data": {
      "text/html": [
       "<div>\n",
       "<style scoped>\n",
       "    .dataframe tbody tr th:only-of-type {\n",
       "        vertical-align: middle;\n",
       "    }\n",
       "\n",
       "    .dataframe tbody tr th {\n",
       "        vertical-align: top;\n",
       "    }\n",
       "\n",
       "    .dataframe thead th {\n",
       "        text-align: right;\n",
       "    }\n",
       "</style>\n",
       "<table border=\"1\" class=\"dataframe\">\n",
       "  <thead>\n",
       "    <tr style=\"text-align: right;\">\n",
       "      <th></th>\n",
       "      <th>Survived</th>\n",
       "      <th>Sex</th>\n",
       "      <th>Age</th>\n",
       "      <th>SibSp</th>\n",
       "      <th>Parch</th>\n",
       "      <th>Fare</th>\n",
       "      <th>Q</th>\n",
       "      <th>S</th>\n",
       "      <th>2</th>\n",
       "      <th>3</th>\n",
       "    </tr>\n",
       "  </thead>\n",
       "  <tbody>\n",
       "    <tr>\n",
       "      <th>count</th>\n",
       "      <td>891.000000</td>\n",
       "      <td>891.000000</td>\n",
       "      <td>891.000000</td>\n",
       "      <td>891.000000</td>\n",
       "      <td>891.000000</td>\n",
       "      <td>891.000000</td>\n",
       "      <td>891.000000</td>\n",
       "      <td>891.000000</td>\n",
       "      <td>891.000000</td>\n",
       "      <td>891.000000</td>\n",
       "    </tr>\n",
       "    <tr>\n",
       "      <th>mean</th>\n",
       "      <td>0.383838</td>\n",
       "      <td>0.352413</td>\n",
       "      <td>29.699118</td>\n",
       "      <td>0.523008</td>\n",
       "      <td>0.381594</td>\n",
       "      <td>32.204208</td>\n",
       "      <td>0.086420</td>\n",
       "      <td>0.725028</td>\n",
       "      <td>0.206510</td>\n",
       "      <td>0.551066</td>\n",
       "    </tr>\n",
       "    <tr>\n",
       "      <th>std</th>\n",
       "      <td>0.486592</td>\n",
       "      <td>0.477990</td>\n",
       "      <td>13.002015</td>\n",
       "      <td>1.102743</td>\n",
       "      <td>0.806057</td>\n",
       "      <td>49.693429</td>\n",
       "      <td>0.281141</td>\n",
       "      <td>0.446751</td>\n",
       "      <td>0.405028</td>\n",
       "      <td>0.497665</td>\n",
       "    </tr>\n",
       "    <tr>\n",
       "      <th>min</th>\n",
       "      <td>0.000000</td>\n",
       "      <td>0.000000</td>\n",
       "      <td>0.420000</td>\n",
       "      <td>0.000000</td>\n",
       "      <td>0.000000</td>\n",
       "      <td>0.000000</td>\n",
       "      <td>0.000000</td>\n",
       "      <td>0.000000</td>\n",
       "      <td>0.000000</td>\n",
       "      <td>0.000000</td>\n",
       "    </tr>\n",
       "    <tr>\n",
       "      <th>25%</th>\n",
       "      <td>0.000000</td>\n",
       "      <td>0.000000</td>\n",
       "      <td>22.000000</td>\n",
       "      <td>0.000000</td>\n",
       "      <td>0.000000</td>\n",
       "      <td>7.910400</td>\n",
       "      <td>0.000000</td>\n",
       "      <td>0.000000</td>\n",
       "      <td>0.000000</td>\n",
       "      <td>0.000000</td>\n",
       "    </tr>\n",
       "    <tr>\n",
       "      <th>50%</th>\n",
       "      <td>0.000000</td>\n",
       "      <td>0.000000</td>\n",
       "      <td>29.699118</td>\n",
       "      <td>0.000000</td>\n",
       "      <td>0.000000</td>\n",
       "      <td>14.454200</td>\n",
       "      <td>0.000000</td>\n",
       "      <td>1.000000</td>\n",
       "      <td>0.000000</td>\n",
       "      <td>1.000000</td>\n",
       "    </tr>\n",
       "    <tr>\n",
       "      <th>75%</th>\n",
       "      <td>1.000000</td>\n",
       "      <td>1.000000</td>\n",
       "      <td>35.000000</td>\n",
       "      <td>1.000000</td>\n",
       "      <td>0.000000</td>\n",
       "      <td>31.000000</td>\n",
       "      <td>0.000000</td>\n",
       "      <td>1.000000</td>\n",
       "      <td>0.000000</td>\n",
       "      <td>1.000000</td>\n",
       "    </tr>\n",
       "    <tr>\n",
       "      <th>max</th>\n",
       "      <td>1.000000</td>\n",
       "      <td>1.000000</td>\n",
       "      <td>80.000000</td>\n",
       "      <td>8.000000</td>\n",
       "      <td>6.000000</td>\n",
       "      <td>512.329200</td>\n",
       "      <td>1.000000</td>\n",
       "      <td>1.000000</td>\n",
       "      <td>1.000000</td>\n",
       "      <td>1.000000</td>\n",
       "    </tr>\n",
       "  </tbody>\n",
       "</table>\n",
       "</div>"
      ],
      "text/plain": [
       "         Survived         Sex         Age       SibSp       Parch        Fare  \\\n",
       "count  891.000000  891.000000  891.000000  891.000000  891.000000  891.000000   \n",
       "mean     0.383838    0.352413   29.699118    0.523008    0.381594   32.204208   \n",
       "std      0.486592    0.477990   13.002015    1.102743    0.806057   49.693429   \n",
       "min      0.000000    0.000000    0.420000    0.000000    0.000000    0.000000   \n",
       "25%      0.000000    0.000000   22.000000    0.000000    0.000000    7.910400   \n",
       "50%      0.000000    0.000000   29.699118    0.000000    0.000000   14.454200   \n",
       "75%      1.000000    1.000000   35.000000    1.000000    0.000000   31.000000   \n",
       "max      1.000000    1.000000   80.000000    8.000000    6.000000  512.329200   \n",
       "\n",
       "                Q           S           2           3  \n",
       "count  891.000000  891.000000  891.000000  891.000000  \n",
       "mean     0.086420    0.725028    0.206510    0.551066  \n",
       "std      0.281141    0.446751    0.405028    0.497665  \n",
       "min      0.000000    0.000000    0.000000    0.000000  \n",
       "25%      0.000000    0.000000    0.000000    0.000000  \n",
       "50%      0.000000    1.000000    0.000000    1.000000  \n",
       "75%      0.000000    1.000000    0.000000    1.000000  \n",
       "max      1.000000    1.000000    1.000000    1.000000  "
      ]
     },
     "execution_count": 298,
     "metadata": {},
     "output_type": "execute_result"
    }
   ],
   "source": [
    "df.describe()"
   ]
  },
  {
   "cell_type": "code",
   "execution_count": 299,
   "metadata": {},
   "outputs": [
    {
     "data": {
      "text/html": [
       "<div>\n",
       "<style scoped>\n",
       "    .dataframe tbody tr th:only-of-type {\n",
       "        vertical-align: middle;\n",
       "    }\n",
       "\n",
       "    .dataframe tbody tr th {\n",
       "        vertical-align: top;\n",
       "    }\n",
       "\n",
       "    .dataframe thead th {\n",
       "        text-align: right;\n",
       "    }\n",
       "</style>\n",
       "<table border=\"1\" class=\"dataframe\">\n",
       "  <thead>\n",
       "    <tr style=\"text-align: right;\">\n",
       "      <th></th>\n",
       "      <th>Fare</th>\n",
       "      <th>Age</th>\n",
       "    </tr>\n",
       "  </thead>\n",
       "  <tbody>\n",
       "    <tr>\n",
       "      <th>count</th>\n",
       "      <td>891.000000</td>\n",
       "      <td>891.000000</td>\n",
       "    </tr>\n",
       "    <tr>\n",
       "      <th>mean</th>\n",
       "      <td>32.204208</td>\n",
       "      <td>29.699118</td>\n",
       "    </tr>\n",
       "    <tr>\n",
       "      <th>std</th>\n",
       "      <td>49.693429</td>\n",
       "      <td>13.002015</td>\n",
       "    </tr>\n",
       "    <tr>\n",
       "      <th>min</th>\n",
       "      <td>0.000000</td>\n",
       "      <td>0.420000</td>\n",
       "    </tr>\n",
       "    <tr>\n",
       "      <th>25%</th>\n",
       "      <td>7.910400</td>\n",
       "      <td>22.000000</td>\n",
       "    </tr>\n",
       "    <tr>\n",
       "      <th>50%</th>\n",
       "      <td>14.454200</td>\n",
       "      <td>29.699118</td>\n",
       "    </tr>\n",
       "    <tr>\n",
       "      <th>75%</th>\n",
       "      <td>31.000000</td>\n",
       "      <td>35.000000</td>\n",
       "    </tr>\n",
       "    <tr>\n",
       "      <th>90%</th>\n",
       "      <td>77.958300</td>\n",
       "      <td>47.000000</td>\n",
       "    </tr>\n",
       "    <tr>\n",
       "      <th>95%</th>\n",
       "      <td>112.079150</td>\n",
       "      <td>54.000000</td>\n",
       "    </tr>\n",
       "    <tr>\n",
       "      <th>99%</th>\n",
       "      <td>249.006220</td>\n",
       "      <td>65.000000</td>\n",
       "    </tr>\n",
       "    <tr>\n",
       "      <th>max</th>\n",
       "      <td>512.329200</td>\n",
       "      <td>80.000000</td>\n",
       "    </tr>\n",
       "  </tbody>\n",
       "</table>\n",
       "</div>"
      ],
      "text/plain": [
       "             Fare         Age\n",
       "count  891.000000  891.000000\n",
       "mean    32.204208   29.699118\n",
       "std     49.693429   13.002015\n",
       "min      0.000000    0.420000\n",
       "25%      7.910400   22.000000\n",
       "50%     14.454200   29.699118\n",
       "75%     31.000000   35.000000\n",
       "90%     77.958300   47.000000\n",
       "95%    112.079150   54.000000\n",
       "99%    249.006220   65.000000\n",
       "max    512.329200   80.000000"
      ]
     },
     "execution_count": 299,
     "metadata": {},
     "output_type": "execute_result"
    }
   ],
   "source": [
    "chk_outlier=['Fare','Age']\n",
    "df[chk_outlier].describe(percentiles=[.25, .5, .75, .90, .95, .99])"
   ]
  },
  {
   "cell_type": "markdown",
   "metadata": {},
   "source": [
    "### Outlier treatment for Fare variable"
   ]
  },
  {
   "cell_type": "code",
   "execution_count": 300,
   "metadata": {},
   "outputs": [],
   "source": [
    "fare99=df['Fare'].quantile(0.99)\n",
    "df=df[df.Fare<fare99]\n",
    "y=df['Survived']\n",
    "df.drop('Survived',axis=1,inplace=True)\n"
   ]
  },
  {
   "cell_type": "markdown",
   "metadata": {},
   "source": [
    "### Splitting training and test set"
   ]
  },
  {
   "cell_type": "code",
   "execution_count": 301,
   "metadata": {},
   "outputs": [],
   "source": [
    "from sklearn.model_selection import train_test_split\n",
    "from sklearn.preprocessing import StandardScaler\n",
    "X_train,X_test,y_train,y_test=train_test_split(df,y,test_size=0.3,random_state=100)\n"
   ]
  },
  {
   "cell_type": "code",
   "execution_count": 302,
   "metadata": {},
   "outputs": [
    {
     "name": "stderr",
     "output_type": "stream",
     "text": [
      "D:\\ProgramData\\Anaconda3\\envs\\myenv\\lib\\site-packages\\ipykernel_launcher.py:4: SettingWithCopyWarning: \n",
      "A value is trying to be set on a copy of a slice from a DataFrame.\n",
      "Try using .loc[row_indexer,col_indexer] = value instead\n",
      "\n",
      "See the caveats in the documentation: https://pandas.pydata.org/pandas-docs/stable/user_guide/indexing.html#returning-a-view-versus-a-copy\n",
      "  after removing the cwd from sys.path.\n",
      "D:\\ProgramData\\Anaconda3\\envs\\myenv\\lib\\site-packages\\pandas\\core\\indexing.py:965: SettingWithCopyWarning: \n",
      "A value is trying to be set on a copy of a slice from a DataFrame.\n",
      "Try using .loc[row_indexer,col_indexer] = value instead\n",
      "\n",
      "See the caveats in the documentation: https://pandas.pydata.org/pandas-docs/stable/user_guide/indexing.html#returning-a-view-versus-a-copy\n",
      "  self.obj[item] = s\n",
      "D:\\ProgramData\\Anaconda3\\envs\\myenv\\lib\\site-packages\\ipykernel_launcher.py:5: SettingWithCopyWarning: \n",
      "A value is trying to be set on a copy of a slice from a DataFrame.\n",
      "Try using .loc[row_indexer,col_indexer] = value instead\n",
      "\n",
      "See the caveats in the documentation: https://pandas.pydata.org/pandas-docs/stable/user_guide/indexing.html#returning-a-view-versus-a-copy\n",
      "  \"\"\"\n",
      "D:\\ProgramData\\Anaconda3\\envs\\myenv\\lib\\site-packages\\pandas\\core\\indexing.py:965: SettingWithCopyWarning: \n",
      "A value is trying to be set on a copy of a slice from a DataFrame.\n",
      "Try using .loc[row_indexer,col_indexer] = value instead\n",
      "\n",
      "See the caveats in the documentation: https://pandas.pydata.org/pandas-docs/stable/user_guide/indexing.html#returning-a-view-versus-a-copy\n",
      "  self.obj[item] = s\n"
     ]
    }
   ],
   "source": [
    "#Standardising fare and age variable\n",
    "sc=StandardScaler()\n",
    "\n",
    "X_train[['Fare','Age']]=sc.fit_transform(X_train[['Fare','Age']])\n",
    "X_test[['Fare','Age']]=sc.transform(X_test[['Fare','Age']])\n"
   ]
  },
  {
   "cell_type": "markdown",
   "metadata": {},
   "source": [
    "#### Keeping dataset and standarising different for Neural networks"
   ]
  },
  {
   "cell_type": "code",
   "execution_count": 303,
   "metadata": {},
   "outputs": [],
   "source": [
    "## for test NN\n",
    "sc1=StandardScaler()\n",
    "df[['Fare','Age']]=sc1.fit_transform(df[['Fare','Age']])"
   ]
  },
  {
   "cell_type": "code",
   "execution_count": 304,
   "metadata": {},
   "outputs": [],
   "source": [
    "df1[['Fare','Age']]=sc1.transform(df1[['Fare','Age']])"
   ]
  },
  {
   "cell_type": "code",
   "execution_count": 305,
   "metadata": {},
   "outputs": [
    {
     "data": {
      "text/plain": [
       "37.98185941043084"
      ]
     },
     "execution_count": 305,
     "metadata": {},
     "output_type": "execute_result"
    }
   ],
   "source": [
    "#Survival rate\n",
    "sum(y)/len(y)*100"
   ]
  },
  {
   "cell_type": "code",
   "execution_count": 306,
   "metadata": {
    "scrolled": true
   },
   "outputs": [
    {
     "data": {
      "text/plain": [
       "<matplotlib.axes._subplots.AxesSubplot at 0x260fd39f908>"
      ]
     },
     "execution_count": 306,
     "metadata": {},
     "output_type": "execute_result"
    },
    {
     "data": {
      "image/png": "[encoded data removed]",
      "text/plain": [
       "<Figure size 432x288 with 2 Axes>"
      ]
     },
     "metadata": {
      "needs_background": "light"
     },
     "output_type": "display_data"
    }
   ],
   "source": [
    "import matplotlib.pyplot as plt\n",
    "import seaborn as sns\n",
    "sns.heatmap(df.corr(),annot=True)"
   ]
  },
  {
   "cell_type": "code",
   "execution_count": 307,
   "metadata": {},
   "outputs": [
    {
     "data": {
      "text/html": [
       "<div>\n",
       "<style scoped>\n",
       "    .dataframe tbody tr th:only-of-type {\n",
       "        vertical-align: middle;\n",
       "    }\n",
       "\n",
       "    .dataframe tbody tr th {\n",
       "        vertical-align: top;\n",
       "    }\n",
       "\n",
       "    .dataframe thead th {\n",
       "        text-align: right;\n",
       "    }\n",
       "</style>\n",
       "<table border=\"1\" class=\"dataframe\">\n",
       "  <thead>\n",
       "    <tr style=\"text-align: right;\">\n",
       "      <th></th>\n",
       "      <th>Sex</th>\n",
       "      <th>Age</th>\n",
       "      <th>SibSp</th>\n",
       "      <th>Parch</th>\n",
       "      <th>Fare</th>\n",
       "      <th>Q</th>\n",
       "      <th>S</th>\n",
       "      <th>2</th>\n",
       "      <th>3</th>\n",
       "    </tr>\n",
       "  </thead>\n",
       "  <tbody>\n",
       "    <tr>\n",
       "      <th>86</th>\n",
       "      <td>0</td>\n",
       "      <td>-1.055917</td>\n",
       "      <td>1</td>\n",
       "      <td>3</td>\n",
       "      <td>0.170863</td>\n",
       "      <td>0</td>\n",
       "      <td>1</td>\n",
       "      <td>0</td>\n",
       "      <td>1</td>\n",
       "    </tr>\n",
       "    <tr>\n",
       "      <th>794</th>\n",
       "      <td>0</td>\n",
       "      <td>-0.376760</td>\n",
       "      <td>0</td>\n",
       "      <td>0</td>\n",
       "      <td>-0.562789</td>\n",
       "      <td>0</td>\n",
       "      <td>1</td>\n",
       "      <td>0</td>\n",
       "      <td>1</td>\n",
       "    </tr>\n",
       "    <tr>\n",
       "      <th>163</th>\n",
       "      <td>0</td>\n",
       "      <td>-0.980455</td>\n",
       "      <td>0</td>\n",
       "      <td>0</td>\n",
       "      <td>-0.541546</td>\n",
       "      <td>0</td>\n",
       "      <td>1</td>\n",
       "      <td>0</td>\n",
       "      <td>1</td>\n",
       "    </tr>\n",
       "    <tr>\n",
       "      <th>738</th>\n",
       "      <td>0</td>\n",
       "      <td>-0.022156</td>\n",
       "      <td>0</td>\n",
       "      <td>0</td>\n",
       "      <td>-0.562789</td>\n",
       "      <td>0</td>\n",
       "      <td>1</td>\n",
       "      <td>0</td>\n",
       "      <td>1</td>\n",
       "    </tr>\n",
       "    <tr>\n",
       "      <th>718</th>\n",
       "      <td>0</td>\n",
       "      <td>-0.022156</td>\n",
       "      <td>0</td>\n",
       "      <td>0</td>\n",
       "      <td>-0.352101</td>\n",
       "      <td>1</td>\n",
       "      <td>0</td>\n",
       "      <td>0</td>\n",
       "      <td>1</td>\n",
       "    </tr>\n",
       "  </tbody>\n",
       "</table>\n",
       "</div>"
      ],
      "text/plain": [
       "     Sex       Age  SibSp  Parch      Fare  Q  S  2  3\n",
       "86     0 -1.055917      1      3  0.170863  0  1  0  1\n",
       "794    0 -0.376760      0      0 -0.562789  0  1  0  1\n",
       "163    0 -0.980455      0      0 -0.541546  0  1  0  1\n",
       "738    0 -0.022156      0      0 -0.562789  0  1  0  1\n",
       "718    0 -0.022156      0      0 -0.352101  1  0  0  1"
      ]
     },
     "execution_count": 307,
     "metadata": {},
     "output_type": "execute_result"
    }
   ],
   "source": [
    "X_train.head()"
   ]
  },
  {
   "cell_type": "markdown",
   "metadata": {},
   "source": [
    "# Logistic regression"
   ]
  },
  {
   "cell_type": "code",
   "execution_count": 308,
   "metadata": {
    "scrolled": true
   },
   "outputs": [
    {
     "data": {
      "text/plain": [
       "LogisticRegression(C=10, class_weight=None, dual=False, fit_intercept=True,\n",
       "                   intercept_scaling=1, l1_ratio=None, max_iter=100,\n",
       "                   multi_class='auto', n_jobs=None, penalty='l2',\n",
       "                   random_state=None, solver='lbfgs', tol=0.0001, verbose=0,\n",
       "                   warm_start=False)"
      ]
     },
     "execution_count": 308,
     "metadata": {},
     "output_type": "execute_result"
    }
   ],
   "source": [
    "from sklearn.linear_model import LogisticRegression\n",
    "from sklearn import metrics\n",
    "logreg = LogisticRegression(C=10)\n",
    "logreg.fit(X_train, y_train)"
   ]
  },
  {
   "cell_type": "code",
   "execution_count": 309,
   "metadata": {},
   "outputs": [
    {
     "data": {
      "text/plain": [
       "0.7471698113207547"
      ]
     },
     "execution_count": 309,
     "metadata": {},
     "output_type": "execute_result"
    }
   ],
   "source": [
    "y_pred = logreg.predict(X_test)\n",
    "metrics.accuracy_score( y_test, y_pred)"
   ]
  },
  {
   "cell_type": "markdown",
   "metadata": {},
   "source": [
    "## ROC curve"
   ]
  },
  {
   "cell_type": "code",
   "execution_count": 310,
   "metadata": {},
   "outputs": [
    {
     "data": {
      "image/png": "[encoded data removed]",
      "text/plain": [
       "<Figure size 432x288 with 1 Axes>"
      ]
     },
     "metadata": {
      "needs_background": "light"
     },
     "output_type": "display_data"
    }
   ],
   "source": [
    "from sklearn.metrics import roc_auc_score\n",
    "from sklearn.metrics import roc_curve\n",
    "import matplotlib.pyplot as plt \n",
    "%matplotlib inline\n",
    "logit_roc_auc = roc_auc_score(y_test, logreg.predict(X_test))\n",
    "fpr, tpr, thresholds = roc_curve(y_test, logreg.predict_proba(X_test)[:,1])\n",
    "plt.figure()\n",
    "plt.plot(fpr, tpr, label='Logistic Regression (area = %0.2f)' % logit_roc_auc)\n",
    "plt.plot([0, 1], [0, 1],'r--')\n",
    "plt.xlim([0.0, 1.0])\n",
    "plt.ylim([0.0, 1.05])\n",
    "plt.xlabel('False Positive Rate')\n",
    "plt.ylabel('True Positive Rate')\n",
    "plt.title('Receiver operating characteristic')\n",
    "plt.legend(loc=\"lower right\")\n",
    "plt.savefig('Log_ROC')\n",
    "plt.show()"
   ]
  },
  {
   "cell_type": "markdown",
   "metadata": {},
   "source": [
    "# SVM model with rbf kernel"
   ]
  },
  {
   "cell_type": "code",
   "execution_count": 311,
   "metadata": {},
   "outputs": [
    {
     "data": {
      "text/plain": [
       "0.7886792452830189"
      ]
     },
     "execution_count": 311,
     "metadata": {},
     "output_type": "execute_result"
    }
   ],
   "source": [
    "from sklearn.svm import SVC\n",
    "svm_model=SVC(kernel='rbf',C=1,gamma=0.1)\n",
    "svm_model.fit(X_train,y_train)\n",
    "y_pred = svm_model.predict(X_test)\n",
    "metrics.accuracy_score( y_test, y_pred)"
   ]
  },
  {
   "cell_type": "markdown",
   "metadata": {},
   "source": [
    "# Defining Neural network basic model with just one hidden layer of 16 neurons"
   ]
  },
  {
   "cell_type": "code",
   "execution_count": 312,
   "metadata": {},
   "outputs": [],
   "source": [
    "import keras\n",
    "from keras.datasets import mnist\n",
    "from keras.callbacks import ModelCheckpoint, ReduceLROnPlateau\n",
    "from keras.models import Sequential\n",
    "from keras.layers import Dense,Conv1D,Flatten,Dropout"
   ]
  },
  {
   "cell_type": "code",
   "execution_count": 313,
   "metadata": {},
   "outputs": [
    {
     "name": "stdout",
     "output_type": "stream",
     "text": [
      "Model: \"sequential_15\"\n",
      "_________________________________________________________________\n",
      "Layer (type)                 Output Shape              Param #   \n",
      "=================================================================\n",
      "dense_38 (Dense)             (None, 16)                160       \n",
      "_________________________________________________________________\n",
      "dropout_24 (Dropout)         (None, 16)                0         \n",
      "_________________________________________________________________\n",
      "dense_39 (Dense)             (None, 1)                 17        \n",
      "=================================================================\n",
      "Total params: 177\n",
      "Trainable params: 177\n",
      "Non-trainable params: 0\n",
      "_________________________________________________________________\n"
     ]
    }
   ],
   "source": [
    "model = Sequential()\n",
    "model.add(Dense(16,activation='relu',kernel_initializer='uniform', input_shape=(df.shape[1],)))\n",
    "\n",
    "model.add(Dropout(0.3))\n",
    "\n",
    "model.add(Dense(1,activation='sigmoid'))\n",
    "model.summary()"
   ]
  },
  {
   "cell_type": "code",
   "execution_count": 314,
   "metadata": {},
   "outputs": [],
   "source": [
    "model.compile(loss=keras.losses.binary_crossentropy,\n",
    "              optimizer=keras.optimizers.Adam(lr=0.01),\n",
    "              metrics=['accuracy'])\n",
    "LR = ReduceLROnPlateau(monitor='val_loss', factor=0.5,\n",
    "                              patience=5, min_lr=0.00001, verbose=1)# write the REducelronplateau code here\n",
    "callbacks_list = [LR]"
   ]
  },
  {
   "cell_type": "code",
   "execution_count": 315,
   "metadata": {},
   "outputs": [
    {
     "name": "stdout",
     "output_type": "stream",
     "text": [
      "Train on 705 samples, validate on 177 samples\n",
      "Epoch 1/150\n",
      "705/705 [==============================] - 1s 1ms/step - loss: 0.6010 - accuracy: 0.7177 - val_loss: 0.4568 - val_accuracy: 0.8418\n",
      "Epoch 2/150\n",
      "705/705 [==============================] - 0s 267us/step - loss: 0.4957 - accuracy: 0.7972 - val_loss: 0.4213 - val_accuracy: 0.8249\n",
      "Epoch 3/150\n",
      "705/705 [==============================] - 0s 201us/step - loss: 0.4851 - accuracy: 0.7773 - val_loss: 0.3990 - val_accuracy: 0.8418\n",
      "Epoch 4/150\n",
      "705/705 [==============================] - 0s 187us/step - loss: 0.4707 - accuracy: 0.7915 - val_loss: 0.3813 - val_accuracy: 0.8531\n",
      "Epoch 5/150\n",
      "705/705 [==============================] - 0s 187us/step - loss: 0.4562 - accuracy: 0.8057 - val_loss: 0.3793 - val_accuracy: 0.8362\n",
      "Epoch 6/150\n",
      "705/705 [==============================] - 0s 171us/step - loss: 0.4652 - accuracy: 0.7872 - val_loss: 0.3690 - val_accuracy: 0.8475\n",
      "Epoch 7/150\n",
      "705/705 [==============================] - 0s 199us/step - loss: 0.4638 - accuracy: 0.7957 - val_loss: 0.3771 - val_accuracy: 0.8531\n",
      "Epoch 8/150\n",
      "705/705 [==============================] - 0s 226us/step - loss: 0.4520 - accuracy: 0.8128 - val_loss: 0.3694 - val_accuracy: 0.8588\n",
      "Epoch 9/150\n",
      "705/705 [==============================] - 0s 232us/step - loss: 0.4488 - accuracy: 0.8028 - val_loss: 0.3593 - val_accuracy: 0.8418\n",
      "Epoch 10/150\n",
      "705/705 [==============================] - 0s 177us/step - loss: 0.4618 - accuracy: 0.8043 - val_loss: 0.3727 - val_accuracy: 0.8531\n",
      "Epoch 11/150\n",
      "705/705 [==============================] - 0s 175us/step - loss: 0.4301 - accuracy: 0.8085 - val_loss: 0.3488 - val_accuracy: 0.8588\n",
      "Epoch 12/150\n",
      "705/705 [==============================] - 0s 187us/step - loss: 0.4346 - accuracy: 0.8085 - val_loss: 0.3590 - val_accuracy: 0.8644\n",
      "Epoch 13/150\n",
      "705/705 [==============================] - 0s 175us/step - loss: 0.4417 - accuracy: 0.8057 - val_loss: 0.3559 - val_accuracy: 0.8588\n",
      "Epoch 14/150\n",
      "705/705 [==============================] - 0s 180us/step - loss: 0.4490 - accuracy: 0.8099 - val_loss: 0.3620 - val_accuracy: 0.8588\n",
      "Epoch 15/150\n",
      "705/705 [==============================] - 0s 185us/step - loss: 0.4322 - accuracy: 0.8170 - val_loss: 0.3527 - val_accuracy: 0.8531\n",
      "Epoch 16/150\n",
      "705/705 [==============================] - 0s 174us/step - loss: 0.4489 - accuracy: 0.8000 - val_loss: 0.3611 - val_accuracy: 0.8531\n",
      "\n",
      "Epoch 00016: ReduceLROnPlateau reducing learning rate to 0.004999999888241291.\n",
      "Epoch 17/150\n",
      "705/705 [==============================] - 0s 198us/step - loss: 0.4362 - accuracy: 0.8128 - val_loss: 0.3592 - val_accuracy: 0.8644\n",
      "Epoch 18/150\n",
      "705/705 [==============================] - 0s 204us/step - loss: 0.4432 - accuracy: 0.8099 - val_loss: 0.3600 - val_accuracy: 0.8701\n",
      "Epoch 19/150\n",
      "705/705 [==============================] - 0s 204us/step - loss: 0.4295 - accuracy: 0.8227 - val_loss: 0.3543 - val_accuracy: 0.8644\n",
      "Epoch 20/150\n",
      "705/705 [==============================] - 0s 191us/step - loss: 0.4355 - accuracy: 0.8071 - val_loss: 0.3551 - val_accuracy: 0.8701\n",
      "Epoch 21/150\n",
      "705/705 [==============================] - 0s 198us/step - loss: 0.4446 - accuracy: 0.8113 - val_loss: 0.3579 - val_accuracy: 0.8644\n",
      "\n",
      "Epoch 00021: ReduceLROnPlateau reducing learning rate to 0.0024999999441206455.\n",
      "Epoch 22/150\n",
      "705/705 [==============================] - 0s 212us/step - loss: 0.4316 - accuracy: 0.8142 - val_loss: 0.3553 - val_accuracy: 0.8644\n",
      "Epoch 23/150\n",
      "705/705 [==============================] - 0s 229us/step - loss: 0.4149 - accuracy: 0.8213 - val_loss: 0.3529 - val_accuracy: 0.8644\n",
      "Epoch 24/150\n",
      "705/705 [==============================] - 0s 194us/step - loss: 0.4305 - accuracy: 0.8227 - val_loss: 0.3480 - val_accuracy: 0.8701\n",
      "Epoch 25/150\n",
      "705/705 [==============================] - 0s 219us/step - loss: 0.4282 - accuracy: 0.8156 - val_loss: 0.3480 - val_accuracy: 0.8701\n",
      "Epoch 26/150\n",
      "705/705 [==============================] - 0s 229us/step - loss: 0.4362 - accuracy: 0.8142 - val_loss: 0.3479 - val_accuracy: 0.8757\n",
      "Epoch 27/150\n",
      "705/705 [==============================] - 0s 221us/step - loss: 0.4255 - accuracy: 0.8213 - val_loss: 0.3480 - val_accuracy: 0.8757\n",
      "Epoch 28/150\n",
      "705/705 [==============================] - 0s 188us/step - loss: 0.4230 - accuracy: 0.8142 - val_loss: 0.3504 - val_accuracy: 0.8644\n",
      "Epoch 29/150\n",
      "705/705 [==============================] - 0s 175us/step - loss: 0.4335 - accuracy: 0.8156 - val_loss: 0.3452 - val_accuracy: 0.8701\n",
      "Epoch 30/150\n",
      "705/705 [==============================] - 0s 174us/step - loss: 0.4302 - accuracy: 0.8184 - val_loss: 0.3452 - val_accuracy: 0.8701\n",
      "Epoch 31/150\n",
      "705/705 [==============================] - 0s 168us/step - loss: 0.4387 - accuracy: 0.8170 - val_loss: 0.3423 - val_accuracy: 0.8757\n",
      "Epoch 32/150\n",
      "705/705 [==============================] - 0s 174us/step - loss: 0.4366 - accuracy: 0.8199 - val_loss: 0.3472 - val_accuracy: 0.8701\n",
      "Epoch 33/150\n",
      "705/705 [==============================] - 0s 170us/step - loss: 0.4291 - accuracy: 0.8156 - val_loss: 0.3460 - val_accuracy: 0.8701\n",
      "Epoch 34/150\n",
      "705/705 [==============================] - 0s 185us/step - loss: 0.4368 - accuracy: 0.8142 - val_loss: 0.3450 - val_accuracy: 0.8757\n",
      "Epoch 35/150\n",
      "705/705 [==============================] - 0s 188us/step - loss: 0.4291 - accuracy: 0.8270 - val_loss: 0.3450 - val_accuracy: 0.8701\n",
      "Epoch 36/150\n",
      "705/705 [==============================] - 0s 190us/step - loss: 0.4317 - accuracy: 0.8142 - val_loss: 0.3452 - val_accuracy: 0.8757\n",
      "\n",
      "Epoch 00036: ReduceLROnPlateau reducing learning rate to 0.0012499999720603228.\n",
      "Epoch 37/150\n",
      "705/705 [==============================] - 0s 180us/step - loss: 0.4221 - accuracy: 0.8142 - val_loss: 0.3440 - val_accuracy: 0.8757\n",
      "Epoch 38/150\n",
      "705/705 [==============================] - 0s 180us/step - loss: 0.4161 - accuracy: 0.8142 - val_loss: 0.3442 - val_accuracy: 0.8757\n",
      "Epoch 39/150\n",
      "705/705 [==============================] - 0s 191us/step - loss: 0.4333 - accuracy: 0.8057 - val_loss: 0.3444 - val_accuracy: 0.8757\n",
      "Epoch 40/150\n",
      "705/705 [==============================] - 0s 178us/step - loss: 0.4191 - accuracy: 0.8326 - val_loss: 0.3440 - val_accuracy: 0.8757\n",
      "Epoch 41/150\n",
      "705/705 [==============================] - 0s 175us/step - loss: 0.4215 - accuracy: 0.8255 - val_loss: 0.3434 - val_accuracy: 0.8814\n",
      "\n",
      "Epoch 00041: ReduceLROnPlateau reducing learning rate to 0.0006249999860301614.\n",
      "Epoch 42/150\n",
      "705/705 [==============================] - 0s 173us/step - loss: 0.4254 - accuracy: 0.8241 - val_loss: 0.3438 - val_accuracy: 0.8814\n",
      "Epoch 43/150\n",
      "705/705 [==============================] - 0s 181us/step - loss: 0.4213 - accuracy: 0.8270 - val_loss: 0.3445 - val_accuracy: 0.8757\n",
      "Epoch 44/150\n",
      "705/705 [==============================] - 0s 175us/step - loss: 0.4253 - accuracy: 0.8184 - val_loss: 0.3441 - val_accuracy: 0.8757\n",
      "Epoch 45/150\n",
      "705/705 [==============================] - 0s 174us/step - loss: 0.4223 - accuracy: 0.8213 - val_loss: 0.3445 - val_accuracy: 0.8757\n",
      "Epoch 46/150\n",
      "705/705 [==============================] - 0s 175us/step - loss: 0.4218 - accuracy: 0.8156 - val_loss: 0.3437 - val_accuracy: 0.8757\n",
      "\n",
      "Epoch 00046: ReduceLROnPlateau reducing learning rate to 0.0003124999930150807.\n",
      "Epoch 47/150\n",
      "705/705 [==============================] - 0s 170us/step - loss: 0.4172 - accuracy: 0.8241 - val_loss: 0.3439 - val_accuracy: 0.8757\n",
      "Epoch 48/150\n",
      "705/705 [==============================] - 0s 168us/step - loss: 0.4126 - accuracy: 0.8284 - val_loss: 0.3442 - val_accuracy: 0.8757\n",
      "Epoch 49/150\n",
      "705/705 [==============================] - 0s 173us/step - loss: 0.4152 - accuracy: 0.8227 - val_loss: 0.3435 - val_accuracy: 0.8814\n",
      "Epoch 50/150\n",
      "705/705 [==============================] - 0s 170us/step - loss: 0.4259 - accuracy: 0.8156 - val_loss: 0.3435 - val_accuracy: 0.8814\n",
      "Epoch 51/150\n",
      "705/705 [==============================] - 0s 174us/step - loss: 0.4259 - accuracy: 0.8199 - val_loss: 0.3435 - val_accuracy: 0.8814\n",
      "\n",
      "Epoch 00051: ReduceLROnPlateau reducing learning rate to 0.00015624999650754035.\n",
      "Epoch 52/150\n",
      "705/705 [==============================] - 0s 180us/step - loss: 0.4163 - accuracy: 0.8312 - val_loss: 0.3433 - val_accuracy: 0.8814\n",
      "Epoch 53/150\n"
     ]
    },
    {
     "name": "stdout",
     "output_type": "stream",
     "text": [
      "705/705 [==============================] - 0s 175us/step - loss: 0.4191 - accuracy: 0.8255 - val_loss: 0.3430 - val_accuracy: 0.8814\n",
      "Epoch 54/150\n",
      "705/705 [==============================] - 0s 175us/step - loss: 0.4217 - accuracy: 0.8170 - val_loss: 0.3431 - val_accuracy: 0.8814\n",
      "Epoch 55/150\n",
      "705/705 [==============================] - 0s 181us/step - loss: 0.4229 - accuracy: 0.8184 - val_loss: 0.3432 - val_accuracy: 0.8814\n",
      "Epoch 56/150\n",
      "705/705 [==============================] - 0s 170us/step - loss: 0.4341 - accuracy: 0.8170 - val_loss: 0.3431 - val_accuracy: 0.8814\n",
      "\n",
      "Epoch 00056: ReduceLROnPlateau reducing learning rate to 7.812499825377017e-05.\n",
      "Epoch 57/150\n",
      "705/705 [==============================] - 0s 170us/step - loss: 0.4146 - accuracy: 0.8298 - val_loss: 0.3431 - val_accuracy: 0.8814\n",
      "Epoch 58/150\n",
      "705/705 [==============================] - 0s 174us/step - loss: 0.4186 - accuracy: 0.8284 - val_loss: 0.3431 - val_accuracy: 0.8814\n",
      "Epoch 59/150\n",
      "705/705 [==============================] - 0s 188us/step - loss: 0.4264 - accuracy: 0.8255 - val_loss: 0.3432 - val_accuracy: 0.8814\n",
      "Epoch 60/150\n",
      "705/705 [==============================] - 0s 178us/step - loss: 0.4205 - accuracy: 0.8170 - val_loss: 0.3431 - val_accuracy: 0.8814\n",
      "Epoch 61/150\n",
      "705/705 [==============================] - 0s 170us/step - loss: 0.4304 - accuracy: 0.8170 - val_loss: 0.3430 - val_accuracy: 0.8814\n",
      "\n",
      "Epoch 00061: ReduceLROnPlateau reducing learning rate to 3.9062499126885086e-05.\n",
      "Epoch 62/150\n",
      "705/705 [==============================] - 0s 170us/step - loss: 0.4283 - accuracy: 0.8213 - val_loss: 0.3431 - val_accuracy: 0.8814\n",
      "Epoch 63/150\n",
      "705/705 [==============================] - 0s 181us/step - loss: 0.4277 - accuracy: 0.8213 - val_loss: 0.3431 - val_accuracy: 0.8814\n",
      "Epoch 64/150\n",
      "705/705 [==============================] - 0s 191us/step - loss: 0.4132 - accuracy: 0.8284 - val_loss: 0.3430 - val_accuracy: 0.8814\n",
      "Epoch 65/150\n",
      "705/705 [==============================] - 0s 188us/step - loss: 0.4264 - accuracy: 0.8156 - val_loss: 0.3431 - val_accuracy: 0.8814\n",
      "Epoch 66/150\n",
      "705/705 [==============================] - 0s 187us/step - loss: 0.4243 - accuracy: 0.8241 - val_loss: 0.3431 - val_accuracy: 0.8814\n",
      "\n",
      "Epoch 00066: ReduceLROnPlateau reducing learning rate to 1.9531249563442543e-05.\n",
      "Epoch 67/150\n",
      "705/705 [==============================] - 0s 191us/step - loss: 0.4158 - accuracy: 0.8312 - val_loss: 0.3431 - val_accuracy: 0.8814\n",
      "Epoch 68/150\n",
      "705/705 [==============================] - 0s 173us/step - loss: 0.4125 - accuracy: 0.8241 - val_loss: 0.3431 - val_accuracy: 0.8814\n",
      "Epoch 69/150\n",
      "705/705 [==============================] - 0s 181us/step - loss: 0.4315 - accuracy: 0.8170 - val_loss: 0.3431 - val_accuracy: 0.8814\n",
      "Epoch 70/150\n",
      "705/705 [==============================] - 0s 185us/step - loss: 0.4207 - accuracy: 0.8284 - val_loss: 0.3431 - val_accuracy: 0.8814\n",
      "Epoch 71/150\n",
      "705/705 [==============================] - 0s 180us/step - loss: 0.4175 - accuracy: 0.8170 - val_loss: 0.3431 - val_accuracy: 0.8814\n",
      "\n",
      "Epoch 00071: ReduceLROnPlateau reducing learning rate to 1e-05.\n",
      "Epoch 72/150\n",
      "705/705 [==============================] - 0s 173us/step - loss: 0.4123 - accuracy: 0.8213 - val_loss: 0.3430 - val_accuracy: 0.8814\n",
      "Epoch 73/150\n",
      "705/705 [==============================] - 0s 185us/step - loss: 0.4313 - accuracy: 0.8227 - val_loss: 0.3430 - val_accuracy: 0.8814\n",
      "Epoch 74/150\n",
      "705/705 [==============================] - 0s 187us/step - loss: 0.4201 - accuracy: 0.8298 - val_loss: 0.3430 - val_accuracy: 0.8814\n",
      "Epoch 75/150\n",
      "705/705 [==============================] - 0s 184us/step - loss: 0.4278 - accuracy: 0.8199 - val_loss: 0.3430 - val_accuracy: 0.8814\n",
      "Epoch 76/150\n",
      "705/705 [==============================] - 0s 192us/step - loss: 0.4179 - accuracy: 0.8270 - val_loss: 0.3430 - val_accuracy: 0.8814\n",
      "Epoch 77/150\n",
      "705/705 [==============================] - 0s 181us/step - loss: 0.4217 - accuracy: 0.8270 - val_loss: 0.3430 - val_accuracy: 0.8814\n",
      "Epoch 78/150\n",
      "705/705 [==============================] - 0s 188us/step - loss: 0.4184 - accuracy: 0.8213 - val_loss: 0.3430 - val_accuracy: 0.8814\n",
      "Epoch 79/150\n",
      "705/705 [==============================] - 0s 194us/step - loss: 0.4307 - accuracy: 0.8241 - val_loss: 0.3430 - val_accuracy: 0.8814\n",
      "Epoch 80/150\n",
      "705/705 [==============================] - 0s 192us/step - loss: 0.4294 - accuracy: 0.8113 - val_loss: 0.3430 - val_accuracy: 0.8814\n",
      "Epoch 81/150\n",
      "705/705 [==============================] - 0s 184us/step - loss: 0.4125 - accuracy: 0.8184 - val_loss: 0.3430 - val_accuracy: 0.8814\n",
      "Epoch 82/150\n",
      "705/705 [==============================] - 0s 192us/step - loss: 0.4105 - accuracy: 0.8142 - val_loss: 0.3430 - val_accuracy: 0.8814\n",
      "Epoch 83/150\n",
      "705/705 [==============================] - 0s 178us/step - loss: 0.4212 - accuracy: 0.8170 - val_loss: 0.3430 - val_accuracy: 0.8814\n",
      "Epoch 84/150\n",
      "705/705 [==============================] - 0s 191us/step - loss: 0.4262 - accuracy: 0.8213 - val_loss: 0.3430 - val_accuracy: 0.8814\n",
      "Epoch 85/150\n",
      "705/705 [==============================] - 0s 209us/step - loss: 0.4244 - accuracy: 0.8241 - val_loss: 0.3430 - val_accuracy: 0.8814\n",
      "Epoch 86/150\n",
      "705/705 [==============================] - 0s 204us/step - loss: 0.4267 - accuracy: 0.8227 - val_loss: 0.3430 - val_accuracy: 0.8814\n",
      "Epoch 87/150\n",
      "705/705 [==============================] - 0s 187us/step - loss: 0.4259 - accuracy: 0.8241 - val_loss: 0.3430 - val_accuracy: 0.8814\n",
      "Epoch 88/150\n",
      "705/705 [==============================] - 0s 166us/step - loss: 0.4193 - accuracy: 0.8241 - val_loss: 0.3430 - val_accuracy: 0.8814\n",
      "Epoch 89/150\n",
      "705/705 [==============================] - 0s 173us/step - loss: 0.4322 - accuracy: 0.8326 - val_loss: 0.3430 - val_accuracy: 0.8814\n",
      "Epoch 90/150\n",
      "705/705 [==============================] - 0s 166us/step - loss: 0.4257 - accuracy: 0.8113 - val_loss: 0.3430 - val_accuracy: 0.8814\n",
      "Epoch 91/150\n",
      "705/705 [==============================] - 0s 171us/step - loss: 0.4227 - accuracy: 0.8199 - val_loss: 0.3430 - val_accuracy: 0.8814\n",
      "Epoch 92/150\n",
      "705/705 [==============================] - 0s 177us/step - loss: 0.4193 - accuracy: 0.8270 - val_loss: 0.3430 - val_accuracy: 0.8814\n",
      "Epoch 93/150\n",
      "705/705 [==============================] - 0s 170us/step - loss: 0.4264 - accuracy: 0.8213 - val_loss: 0.3430 - val_accuracy: 0.8814\n",
      "Epoch 94/150\n",
      "705/705 [==============================] - 0s 171us/step - loss: 0.4301 - accuracy: 0.8199 - val_loss: 0.3431 - val_accuracy: 0.8814\n",
      "Epoch 95/150\n",
      "705/705 [==============================] - 0s 168us/step - loss: 0.4136 - accuracy: 0.8227 - val_loss: 0.3430 - val_accuracy: 0.8814\n",
      "Epoch 96/150\n",
      "705/705 [==============================] - 0s 167us/step - loss: 0.4127 - accuracy: 0.8213 - val_loss: 0.3430 - val_accuracy: 0.8814\n",
      "Epoch 97/150\n",
      "705/705 [==============================] - 0s 197us/step - loss: 0.4190 - accuracy: 0.8213 - val_loss: 0.3430 - val_accuracy: 0.8814\n",
      "Epoch 98/150\n",
      "705/705 [==============================] - 0s 175us/step - loss: 0.4209 - accuracy: 0.8213 - val_loss: 0.3430 - val_accuracy: 0.8814\n",
      "Epoch 99/150\n",
      "705/705 [==============================] - 0s 181us/step - loss: 0.4321 - accuracy: 0.8213 - val_loss: 0.3430 - val_accuracy: 0.8814\n",
      "Epoch 100/150\n",
      "705/705 [==============================] - 0s 175us/step - loss: 0.4117 - accuracy: 0.8113 - val_loss: 0.3430 - val_accuracy: 0.8814\n",
      "Epoch 101/150\n",
      "705/705 [==============================] - 0s 180us/step - loss: 0.4222 - accuracy: 0.8113 - val_loss: 0.3430 - val_accuracy: 0.8814\n",
      "Epoch 102/150\n",
      "705/705 [==============================] - 0s 180us/step - loss: 0.4217 - accuracy: 0.8199 - val_loss: 0.3430 - val_accuracy: 0.8814\n",
      "Epoch 103/150\n",
      "705/705 [==============================] - 0s 184us/step - loss: 0.4246 - accuracy: 0.8184 - val_loss: 0.3430 - val_accuracy: 0.8814\n",
      "Epoch 104/150\n",
      "705/705 [==============================] - 0s 190us/step - loss: 0.4320 - accuracy: 0.8199 - val_loss: 0.3430 - val_accuracy: 0.8814\n",
      "Epoch 105/150\n",
      "705/705 [==============================] - 0s 187us/step - loss: 0.4258 - accuracy: 0.8227 - val_loss: 0.3430 - val_accuracy: 0.8814\n",
      "Epoch 106/150\n",
      "705/705 [==============================] - 0s 195us/step - loss: 0.4271 - accuracy: 0.8241 - val_loss: 0.3430 - val_accuracy: 0.8814\n",
      "Epoch 107/150\n"
     ]
    },
    {
     "name": "stdout",
     "output_type": "stream",
     "text": [
      "705/705 [==============================] - 0s 181us/step - loss: 0.4260 - accuracy: 0.8170 - val_loss: 0.3430 - val_accuracy: 0.8814\n",
      "Epoch 108/150\n",
      "705/705 [==============================] - 0s 161us/step - loss: 0.4233 - accuracy: 0.8213 - val_loss: 0.3430 - val_accuracy: 0.8814\n",
      "Epoch 109/150\n",
      "705/705 [==============================] - 0s 164us/step - loss: 0.4228 - accuracy: 0.8241 - val_loss: 0.3430 - val_accuracy: 0.8814\n",
      "Epoch 110/150\n",
      "705/705 [==============================] - 0s 175us/step - loss: 0.4252 - accuracy: 0.8199 - val_loss: 0.3430 - val_accuracy: 0.8814\n",
      "Epoch 111/150\n",
      "705/705 [==============================] - 0s 160us/step - loss: 0.4171 - accuracy: 0.8213 - val_loss: 0.3430 - val_accuracy: 0.8814\n",
      "Epoch 112/150\n",
      "705/705 [==============================] - 0s 168us/step - loss: 0.4256 - accuracy: 0.8227 - val_loss: 0.3430 - val_accuracy: 0.8814\n",
      "Epoch 113/150\n",
      "705/705 [==============================] - 0s 168us/step - loss: 0.4227 - accuracy: 0.8184 - val_loss: 0.3430 - val_accuracy: 0.8814\n",
      "Epoch 114/150\n",
      "705/705 [==============================] - 0s 171us/step - loss: 0.4277 - accuracy: 0.8199 - val_loss: 0.3430 - val_accuracy: 0.8814\n",
      "Epoch 115/150\n",
      "705/705 [==============================] - 0s 173us/step - loss: 0.4236 - accuracy: 0.8270 - val_loss: 0.3430 - val_accuracy: 0.8814\n",
      "Epoch 116/150\n",
      "705/705 [==============================] - 0s 177us/step - loss: 0.4289 - accuracy: 0.8241 - val_loss: 0.3430 - val_accuracy: 0.8814\n",
      "Epoch 117/150\n",
      "705/705 [==============================] - 0s 175us/step - loss: 0.4149 - accuracy: 0.8184 - val_loss: 0.3430 - val_accuracy: 0.8814\n",
      "Epoch 118/150\n",
      "705/705 [==============================] - 0s 174us/step - loss: 0.4292 - accuracy: 0.8156 - val_loss: 0.3430 - val_accuracy: 0.8814\n",
      "Epoch 119/150\n",
      "705/705 [==============================] - 0s 163us/step - loss: 0.4275 - accuracy: 0.8142 - val_loss: 0.3430 - val_accuracy: 0.8814\n",
      "Epoch 120/150\n",
      "705/705 [==============================] - 0s 170us/step - loss: 0.4188 - accuracy: 0.8227 - val_loss: 0.3430 - val_accuracy: 0.8814\n",
      "Epoch 121/150\n",
      "705/705 [==============================] - 0s 174us/step - loss: 0.4236 - accuracy: 0.8227 - val_loss: 0.3430 - val_accuracy: 0.8814\n",
      "Epoch 122/150\n",
      "705/705 [==============================] - 0s 171us/step - loss: 0.4298 - accuracy: 0.8270 - val_loss: 0.3430 - val_accuracy: 0.8814\n",
      "Epoch 123/150\n",
      "705/705 [==============================] - 0s 178us/step - loss: 0.4157 - accuracy: 0.8170 - val_loss: 0.3430 - val_accuracy: 0.8814\n",
      "Epoch 124/150\n",
      "705/705 [==============================] - 0s 174us/step - loss: 0.4258 - accuracy: 0.8241 - val_loss: 0.3430 - val_accuracy: 0.8814\n",
      "Epoch 125/150\n",
      "705/705 [==============================] - 0s 177us/step - loss: 0.4203 - accuracy: 0.8227 - val_loss: 0.3430 - val_accuracy: 0.8814\n",
      "Epoch 126/150\n",
      "705/705 [==============================] - 0s 175us/step - loss: 0.4259 - accuracy: 0.8170 - val_loss: 0.3430 - val_accuracy: 0.8814\n",
      "Epoch 127/150\n",
      "705/705 [==============================] - 0s 185us/step - loss: 0.4248 - accuracy: 0.8156 - val_loss: 0.3430 - val_accuracy: 0.8814\n",
      "Epoch 128/150\n",
      "705/705 [==============================] - 0s 192us/step - loss: 0.4219 - accuracy: 0.8227 - val_loss: 0.3430 - val_accuracy: 0.8814\n",
      "Epoch 129/150\n",
      "705/705 [==============================] - 0s 171us/step - loss: 0.4220 - accuracy: 0.8213 - val_loss: 0.3431 - val_accuracy: 0.8814\n",
      "Epoch 130/150\n",
      "705/705 [==============================] - 0s 163us/step - loss: 0.4154 - accuracy: 0.8184 - val_loss: 0.3431 - val_accuracy: 0.8814\n",
      "Epoch 131/150\n",
      "705/705 [==============================] - 0s 192us/step - loss: 0.4310 - accuracy: 0.8227 - val_loss: 0.3431 - val_accuracy: 0.8814\n",
      "Epoch 132/150\n",
      "705/705 [==============================] - 0s 211us/step - loss: 0.4294 - accuracy: 0.8227 - val_loss: 0.3431 - val_accuracy: 0.8814\n",
      "Epoch 133/150\n",
      "705/705 [==============================] - 0s 188us/step - loss: 0.4218 - accuracy: 0.8255 - val_loss: 0.3431 - val_accuracy: 0.8814\n",
      "Epoch 134/150\n",
      "705/705 [==============================] - 0s 170us/step - loss: 0.4251 - accuracy: 0.8128 - val_loss: 0.3431 - val_accuracy: 0.8814\n",
      "Epoch 135/150\n",
      "705/705 [==============================] - 0s 195us/step - loss: 0.4214 - accuracy: 0.8298 - val_loss: 0.3431 - val_accuracy: 0.8814\n",
      "Epoch 136/150\n",
      "705/705 [==============================] - 0s 224us/step - loss: 0.4207 - accuracy: 0.8227 - val_loss: 0.3431 - val_accuracy: 0.8814\n",
      "Epoch 137/150\n",
      "705/705 [==============================] - 0s 211us/step - loss: 0.4202 - accuracy: 0.8142 - val_loss: 0.3431 - val_accuracy: 0.8814\n",
      "Epoch 138/150\n",
      "705/705 [==============================] - 0s 177us/step - loss: 0.4183 - accuracy: 0.8213 - val_loss: 0.3431 - val_accuracy: 0.8814\n",
      "Epoch 139/150\n",
      "705/705 [==============================] - 0s 171us/step - loss: 0.4199 - accuracy: 0.8199 - val_loss: 0.3431 - val_accuracy: 0.8814\n",
      "Epoch 140/150\n",
      "705/705 [==============================] - 0s 168us/step - loss: 0.4173 - accuracy: 0.8355 - val_loss: 0.3431 - val_accuracy: 0.8814\n",
      "Epoch 141/150\n",
      "705/705 [==============================] - 0s 167us/step - loss: 0.4290 - accuracy: 0.8199 - val_loss: 0.3431 - val_accuracy: 0.8814\n",
      "Epoch 142/150\n",
      "705/705 [==============================] - 0s 181us/step - loss: 0.4290 - accuracy: 0.8170 - val_loss: 0.3431 - val_accuracy: 0.8814\n",
      "Epoch 143/150\n",
      "705/705 [==============================] - 0s 180us/step - loss: 0.4255 - accuracy: 0.8156 - val_loss: 0.3431 - val_accuracy: 0.8814\n",
      "Epoch 144/150\n",
      "705/705 [==============================] - 0s 199us/step - loss: 0.4153 - accuracy: 0.8227 - val_loss: 0.3431 - val_accuracy: 0.8814\n",
      "Epoch 145/150\n",
      "705/705 [==============================] - 0s 188us/step - loss: 0.4235 - accuracy: 0.8213 - val_loss: 0.3431 - val_accuracy: 0.8814\n",
      "Epoch 146/150\n",
      "705/705 [==============================] - 0s 225us/step - loss: 0.4300 - accuracy: 0.8241 - val_loss: 0.3432 - val_accuracy: 0.8814\n",
      "Epoch 147/150\n",
      "705/705 [==============================] - 0s 211us/step - loss: 0.4276 - accuracy: 0.8213 - val_loss: 0.3432 - val_accuracy: 0.8814\n",
      "Epoch 148/150\n",
      "705/705 [==============================] - 0s 198us/step - loss: 0.4196 - accuracy: 0.8255 - val_loss: 0.3432 - val_accuracy: 0.8814\n",
      "Epoch 149/150\n",
      "705/705 [==============================] - 0s 192us/step - loss: 0.4124 - accuracy: 0.8270 - val_loss: 0.3431 - val_accuracy: 0.8814\n",
      "Epoch 150/150\n",
      "705/705 [==============================] - 0s 175us/step - loss: 0.4215 - accuracy: 0.8298 - val_loss: 0.3432 - val_accuracy: 0.8814\n"
     ]
    },
    {
     "data": {
      "text/plain": [
       "<keras.callbacks.callbacks.History at 0x260fb7258d0>"
      ]
     },
     "execution_count": 315,
     "metadata": {},
     "output_type": "execute_result"
    }
   ],
   "source": [
    "#X_train=X_train.reshape(1,X_train.shape[0],X_train.shape[1])\n",
    "model.fit(df, y,batch_size=25,callbacks=callbacks_list,\n",
    "          epochs=150,\n",
    "          verbose=1,\n",
    "          validation_split=0.2)"
   ]
  },
  {
   "cell_type": "code",
   "execution_count": 316,
   "metadata": {},
   "outputs": [],
   "source": [
    "y_pred = model.predict(df1)\n",
    "y_pred = pd.DataFrame(y_pred)"
   ]
  },
  {
   "cell_type": "code",
   "execution_count": 317,
   "metadata": {},
   "outputs": [],
   "source": [
    "def binary(x):\n",
    "    if x > 0.5:\n",
    "        return 1\n",
    "    else:\n",
    "        return 0\n",
    "\n",
    "y_pred = y_pred[0].apply(binary)"
   ]
  },
  {
   "cell_type": "code",
   "execution_count": 318,
   "metadata": {},
   "outputs": [],
   "source": [
    "surv=pd.read_csv('test.csv')"
   ]
  },
  {
   "cell_type": "code",
   "execution_count": 319,
   "metadata": {},
   "outputs": [],
   "source": [
    "submission = pd.DataFrame({\n",
    "        \"PassengerId\": surv[\"PassengerId\"],\n",
    "        \"Survived\": y_pred\n",
    "    })\n",
    "    \n",
    "submission.to_csv('titanic.csv', index=False)"
   ]
  },
  {
   "cell_type": "code",
   "execution_count": null,
   "metadata": {},
   "outputs": [],
   "source": []
  }
 ],
 "metadata": {
  "kernelspec": {
   "display_name": "Python [conda env:myenv] *",
   "language": "python",
   "name": "conda-env-myenv-py"
  },
  "language_info": {
   "codemirror_mode": {
    "name": "ipython",
    "version": 3
   },
   "file_extension": ".py",
   "mimetype": "text/x-python",
   "name": "python",
   "nbconvert_exporter": "python",
   "pygments_lexer": "ipython3",
   "version": "3.6.10"
  }
 },
 "nbformat": 4,
 "nbformat_minor": 4
}
